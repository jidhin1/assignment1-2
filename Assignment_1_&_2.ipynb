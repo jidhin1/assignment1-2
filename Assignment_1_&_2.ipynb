{
  "nbformat": 4,
  "nbformat_minor": 0,
  "metadata": {
    "colab": {
      "name": "Assignment 1 & 2.ipynb",
      "provenance": [],
      "collapsed_sections": []
    },
    "kernelspec": {
      "name": "python3",
      "display_name": "Python 3"
    },
    "language_info": {
      "name": "python"
    }
  },
  "cells": [
    {
      "cell_type": "markdown",
      "metadata": {
        "id": "5xSTs94NWDBK"
      },
      "source": [
        "Qn 1"
      ]
    },
    {
      "cell_type": "code",
      "metadata": {
        "colab": {
          "base_uri": "https://localhost:8080/"
        },
        "id": "GLH_AaFtV-4p",
        "outputId": "935e6c11-4af5-4b81-ed67-803db09d77c6"
      },
      "source": [
        "x = 2\n",
        "y = 5\n",
        "xy = 'Hey'\n",
        "print (x+y, xy)"
      ],
      "execution_count": 1,
      "outputs": [
        {
          "output_type": "stream",
          "name": "stdout",
          "text": [
            "7 Hey\n"
          ]
        }
      ]
    },
    {
      "cell_type": "markdown",
      "metadata": {
        "id": "foPLdO5rWL9W"
      },
      "source": [
        "Qn 2"
      ]
    },
    {
      "cell_type": "code",
      "metadata": {
        "colab": {
          "base_uri": "https://localhost:8080/"
        },
        "id": "_dCfsXs8WGYy",
        "outputId": "555e5566-03d2-4dc0-f74a-702a82423532"
      },
      "source": [
        "print(\"\"\"My name is Rajath Kumar M.P.\n",
        "\n",
        "I love Python.\"\"\")\n"
      ],
      "execution_count": 2,
      "outputs": [
        {
          "output_type": "stream",
          "name": "stdout",
          "text": [
            "My name is Rajath Kumar M.P.\n",
            "\n",
            "I love Python.\n"
          ]
        }
      ]
    },
    {
      "cell_type": "code",
      "metadata": {
        "colab": {
          "base_uri": "https://localhost:8080/"
        },
        "id": "FhaAbdETWSIx",
        "outputId": "37cc4351-63ad-49dc-864f-c5e1aa497a18"
      },
      "source": [
        "string1 = 'World'\n",
        "print('Hello', string1)\n",
        "\n",
        "string2 = '!'\n",
        "print('Hello', string1, string2)\n",
        "\n"
      ],
      "execution_count": 3,
      "outputs": [
        {
          "output_type": "stream",
          "name": "stdout",
          "text": [
            "Hello World\n",
            "Hello World !\n"
          ]
        }
      ]
    },
    {
      "cell_type": "code",
      "metadata": {
        "colab": {
          "base_uri": "https://localhost:8080/"
        },
        "id": "yG1hs38YWVzn",
        "outputId": "a3699ffd-cc13-4d19-8676-bcb98b27bb28"
      },
      "source": [
        "print('Hello' + string1 + string2)\n"
      ],
      "execution_count": 4,
      "outputs": [
        {
          "output_type": "stream",
          "name": "stdout",
          "text": [
            "HelloWorld!\n"
          ]
        }
      ]
    },
    {
      "cell_type": "code",
      "metadata": {
        "colab": {
          "base_uri": "https://localhost:8080/"
        },
        "id": "TgQxm0aKWYre",
        "outputId": "4e2c7492-7e1a-42e0-9f63-2fdb17a95f81"
      },
      "source": [
        "print(\"Jan\\nFeb\\nMar\\nApr\\nMay\\nJun\\nJul\\nAug\")"
      ],
      "execution_count": 5,
      "outputs": [
        {
          "output_type": "stream",
          "name": "stdout",
          "text": [
            "Jan\n",
            "Feb\n",
            "Mar\n",
            "Apr\n",
            "May\n",
            "Jun\n",
            "Jul\n",
            "Aug\n"
          ]
        }
      ]
    },
    {
      "cell_type": "code",
      "metadata": {
        "colab": {
          "base_uri": "https://localhost:8080/"
        },
        "id": "xb7QdDh_WcWy",
        "outputId": "13f23bcb-6fba-4b0a-e727-3d5c019b782f"
      },
      "source": [
        "print(\"I want \\\\n to be printed.\")\n"
      ],
      "execution_count": 6,
      "outputs": [
        {
          "output_type": "stream",
          "name": "stdout",
          "text": [
            "I want \\n to be printed.\n"
          ]
        }
      ]
    },
    {
      "cell_type": "code",
      "metadata": {
        "colab": {
          "base_uri": "https://localhost:8080/"
        },
        "id": "gfLpnwFtWfMQ",
        "outputId": "30923612-7a28-4b89-ff0f-0033739d7f0a"
      },
      "source": [
        "x = 10\n",
        "print(type(x))\n",
        " \n",
        "s = 'abc'\n",
        "print(type(s))\n",
        " \n",
        "value= True\n",
        "print(type(value))\n",
        "\n",
        "percent=90.00\n",
        "type(percent)\n",
        "\n"
      ],
      "execution_count": 7,
      "outputs": [
        {
          "output_type": "stream",
          "name": "stdout",
          "text": [
            "<class 'int'>\n",
            "<class 'str'>\n",
            "<class 'bool'>\n"
          ]
        },
        {
          "output_type": "execute_result",
          "data": {
            "text/plain": [
              "float"
            ]
          },
          "metadata": {},
          "execution_count": 7
        }
      ]
    }
  ]
}